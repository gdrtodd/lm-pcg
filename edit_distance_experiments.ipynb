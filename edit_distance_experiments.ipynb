{
 "cells": [
  {
   "cell_type": "code",
   "execution_count": 1,
   "metadata": {},
   "outputs": [],
   "source": [
    "%load_ext autoreload\n",
    "%autoreload 2\n",
    "from Levenshtein import distance, hamming\n",
    "import matplotlib.pyplot as plt\n",
    "import os\n",
    "import random\n",
    "from tqdm import tqdm\n",
    "\n",
    "from datasets import AnnotatedSokobanDataset"
   ]
  },
  {
   "cell_type": "code",
   "execution_count": 2,
   "metadata": {},
   "outputs": [],
   "source": [
    "data_dir = os.path.join(\"./data\", \"boxoban-medium\", \"train\")\n",
    "all_levels = []\n",
    "\n",
    "level_files = [os.path.join(data_dir, f) for f in os.listdir(data_dir) if f.endswith(\".txt\")]\n",
    "for file in level_files:\n",
    "    with open(file, \"r\") as f:\n",
    "\n",
    "        # Split into individual levels\n",
    "        raw_levels = f.read().split(\"; \")\n",
    "\n",
    "        # Remove the first line of each level, which just contains the level number, and replace spaces with dashes\n",
    "        all_levels += [level[level.find(\"\\n\")+1:].strip().replace(\" \", \"-\") for level in raw_levels if level != \"\"]"
   ]
  },
  {
   "cell_type": "code",
   "execution_count": 4,
   "metadata": {},
   "outputs": [
    {
     "name": "stderr",
     "output_type": "stream",
     "text": [
      "Sampling levels: 100%|██████████| 100/100 [02:28<00:00,  1.48s/it]"
     ]
    },
    {
     "name": "stdout",
     "output_type": "stream",
     "text": [
      "Minimum edit distance: 3\n",
      "Minimum hamming distance: 3\n"
     ]
    },
    {
     "name": "stderr",
     "output_type": "stream",
     "text": [
      "\n"
     ]
    }
   ],
   "source": [
    "MIN_EDIT_DISTANCE = float('inf')\n",
    "MIN_HAMMING_DISTANCE = float('inf')\n",
    "edit_dists = []\n",
    "hamming_dists = []\n",
    "\n",
    "for i in tqdm(range(100), desc=\"Sampling levels\"):\n",
    "    base_level = random.choice(all_levels)\n",
    "\n",
    "    for level in all_levels:\n",
    "        edit_dist = distance(base_level, level)\n",
    "        hamming_dist = hamming(base_level, level)\n",
    "\n",
    "        if edit_dist != 0: edit_dists.append(edit_dist)\n",
    "        if hamming_dist != 0: hamming_dists.append(hamming_dist)\n",
    "\n",
    "    MIN_EDIT_DISTANCE = min(MIN_EDIT_DISTANCE, min(edit_dists))\n",
    "    MIN_HAMMING_DISTANCE = min(MIN_HAMMING_DISTANCE, min(hamming_dists))\n",
    "\n",
    "print(f\"Minimum edit distance: {MIN_EDIT_DISTANCE}\")\n",
    "print(f\"Minimum hamming distance: {MIN_HAMMING_DISTANCE}\")"
   ]
  },
  {
   "cell_type": "code",
   "execution_count": 12,
   "metadata": {},
   "outputs": [
    {
     "name": "stdout",
     "output_type": "stream",
     "text": [
      "Min / Max / Mean: 11 / 58 / 38.27896444444445\n"
     ]
    },
    {
     "data": {
      "image/png": "[encoded data removed]",
      "text/plain": [
       "<Figure size 640x480 with 1 Axes>"
      ]
     },
     "metadata": {},
     "output_type": "display_data"
    }
   ],
   "source": [
    "i = 50\n",
    "\n",
    "sample = hamming_dists[i*450000:(i+1)*450000]\n",
    "print(f\"Min / Max / Mean: {min(sample)} / {max(sample)} / {sum(sample) / len(sample)}\")\n",
    "plt.hist(sample, bins=50)\n",
    "plt.show()"
   ]
  },
  {
   "cell_type": "code",
   "execution_count": 10,
   "metadata": {},
   "outputs": [
    {
     "name": "stdout",
     "output_type": "stream",
     "text": [
      "Number of edges: 4426\n"
     ]
    },
    {
     "ename": "KeyboardInterrupt",
     "evalue": "",
     "output_type": "error",
     "traceback": [
      "\u001b[0;31m---------------------------------------------------------------------------\u001b[0m",
      "\u001b[0;31mKeyboardInterrupt\u001b[0m                         Traceback (most recent call last)",
      "Cell \u001b[0;32mIn[10], line 5\u001b[0m\n\u001b[1;32m      3\u001b[0m \u001b[39mfor\u001b[39;00m k \u001b[39min\u001b[39;00m \u001b[39mrange\u001b[39m(\u001b[39m0\u001b[39m, \u001b[39m1000\u001b[39m, \u001b[39m100\u001b[39m):\n\u001b[1;32m      4\u001b[0m     levels \u001b[39m=\u001b[39m all_levels[k:k\u001b[39m+\u001b[39m\u001b[39m100\u001b[39m]\n\u001b[0;32m----> 5\u001b[0m     diversity \u001b[39m=\u001b[39m AnnotatedSokobanDataset\u001b[39m.\u001b[39;49mget_diversity(\u001b[39mNone\u001b[39;49;00m, levels, threshold\u001b[39m=\u001b[39;49m\u001b[39m30\u001b[39;49m)\n",
      "File \u001b[0;32m~/Projects/lm-pcg/datasets.py:372\u001b[0m, in \u001b[0;36mAnnotatedSokobanDataset.get_diversity\u001b[0;34m(self, levels, threshold)\u001b[0m\n\u001b[1;32m    370\u001b[0m graph\u001b[39m.\u001b[39madd_edges_from(edges)\n\u001b[1;32m    371\u001b[0m \u001b[39mprint\u001b[39m(\u001b[39m\"\u001b[39m\u001b[39mNumber of edges:\u001b[39m\u001b[39m\"\u001b[39m, \u001b[39mlen\u001b[39m(edges))\n\u001b[0;32m--> 372\u001b[0m cliques \u001b[39m=\u001b[39m \u001b[39mlist\u001b[39m(\u001b[39msorted\u001b[39;49m(nx\u001b[39m.\u001b[39;49mfind_cliques(graph), key\u001b[39m=\u001b[39;49m\u001b[39mlambda\u001b[39;49;00m x: \u001b[39mlen\u001b[39;49m(x), reverse\u001b[39m=\u001b[39;49m\u001b[39mTrue\u001b[39;49;00m))\n\u001b[1;32m    374\u001b[0m diversity \u001b[39m=\u001b[39m \u001b[39mlen\u001b[39m(cliques[\u001b[39m0\u001b[39m]) \u001b[39m/\u001b[39m \u001b[39mlen\u001b[39m(levels)\n\u001b[1;32m    376\u001b[0m \u001b[39mreturn\u001b[39;00m diversity\n",
      "File \u001b[0;32m~/anaconda3/envs/lm-pcg/lib/python3.10/site-packages/networkx/algorithms/clique.py:227\u001b[0m, in \u001b[0;36mfind_cliques\u001b[0;34m(G, nodes)\u001b[0m\n\u001b[1;32m    225\u001b[0m             subg \u001b[39m=\u001b[39m subg_q\n\u001b[1;32m    226\u001b[0m             cand \u001b[39m=\u001b[39m cand_q\n\u001b[0;32m--> 227\u001b[0m             u \u001b[39m=\u001b[39m \u001b[39mmax\u001b[39;49m(subg, key\u001b[39m=\u001b[39;49m\u001b[39mlambda\u001b[39;49;00m u: \u001b[39mlen\u001b[39;49m(cand \u001b[39m&\u001b[39;49m adj[u]))\n\u001b[1;32m    228\u001b[0m             ext_u \u001b[39m=\u001b[39m cand \u001b[39m-\u001b[39m adj[u]\n\u001b[1;32m    229\u001b[0m \u001b[39melse\u001b[39;00m:\n",
      "File \u001b[0;32m~/anaconda3/envs/lm-pcg/lib/python3.10/site-packages/networkx/algorithms/clique.py:227\u001b[0m, in \u001b[0;36mfind_cliques.<locals>.<lambda>\u001b[0;34m(u)\u001b[0m\n\u001b[1;32m    225\u001b[0m             subg \u001b[39m=\u001b[39m subg_q\n\u001b[1;32m    226\u001b[0m             cand \u001b[39m=\u001b[39m cand_q\n\u001b[0;32m--> 227\u001b[0m             u \u001b[39m=\u001b[39m \u001b[39mmax\u001b[39m(subg, key\u001b[39m=\u001b[39m\u001b[39mlambda\u001b[39;00m u: \u001b[39mlen\u001b[39;49m(cand \u001b[39m&\u001b[39;49m adj[u]))\n\u001b[1;32m    228\u001b[0m             ext_u \u001b[39m=\u001b[39m cand \u001b[39m-\u001b[39m adj[u]\n\u001b[1;32m    229\u001b[0m \u001b[39melse\u001b[39;00m:\n",
      "\u001b[0;31mKeyboardInterrupt\u001b[0m: "
     ]
    }
   ],
   "source": [
    "k = 0\n",
    "\n",
    "for k in range(0, 1000, 100):\n",
    "    levels = all_levels[k:k+100]\n",
    "    diversity = AnnotatedSokobanDataset.get_diversity(None, levels, threshold=30)\n",
    "\n",
    "    # print(f\"Diversity: {diversity}\")"
   ]
  }
 ],
 "metadata": {
  "kernelspec": {
   "display_name": "Python 3.10.8 ('lm-pcg')",
   "language": "python",
   "name": "python3"
  },
  "language_info": {
   "codemirror_mode": {
    "name": "ipython",
    "version": 3
   },
   "file_extension": ".py",
   "mimetype": "text/x-python",
   "name": "python",
   "nbconvert_exporter": "python",
   "pygments_lexer": "ipython3",
   "version": "3.10.9"
  },
  "orig_nbformat": 4,
  "vscode": {
   "interpreter": {
    "hash": "24775f06f7acbd1479eb0bc92e07ea1bc459991f8de84028f9bafb207e7d5502"
   }
  }
 },
 "nbformat": 4,
 "nbformat_minor": 2
}
