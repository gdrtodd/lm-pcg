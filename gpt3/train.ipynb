{
 "cells": [
  {
   "cell_type": "code",
   "execution_count": 3,
   "metadata": {
    "colab": {
     "base_uri": "https://localhost:8080/"
    },
    "id": "cXsEzHoqsPhP",
    "outputId": "d5e072d1-6539-4f58-dd35-7054108014d4"
   },
   "outputs": [
    {
     "name": "stdout",
     "output_type": "stream",
     "text": [
      "Requirement already satisfied: openai in /home/mnasir/anaconda3/envs/lm-pcg2/lib/python3.9/site-packages (0.26.4)\n",
      "Requirement already satisfied: tqdm in /home/mnasir/anaconda3/envs/lm-pcg2/lib/python3.9/site-packages (from openai) (4.64.1)\n",
      "Requirement already satisfied: requests>=2.20 in /home/mnasir/anaconda3/envs/lm-pcg2/lib/python3.9/site-packages (from openai) (2.28.2)\n",
      "Requirement already satisfied: aiohttp in /home/mnasir/anaconda3/envs/lm-pcg2/lib/python3.9/site-packages (from openai) (3.8.3)\n",
      "Requirement already satisfied: charset-normalizer<4,>=2 in /home/mnasir/anaconda3/envs/lm-pcg2/lib/python3.9/site-packages (from requests>=2.20->openai) (2.1.1)\n",
      "Requirement already satisfied: idna<4,>=2.5 in /home/mnasir/anaconda3/envs/lm-pcg2/lib/python3.9/site-packages (from requests>=2.20->openai) (3.4)\n",
      "Requirement already satisfied: certifi>=2017.4.17 in /home/mnasir/anaconda3/envs/lm-pcg2/lib/python3.9/site-packages (from requests>=2.20->openai) (2022.6.15)\n",
      "Requirement already satisfied: urllib3<1.27,>=1.21.1 in /home/mnasir/anaconda3/envs/lm-pcg2/lib/python3.9/site-packages (from requests>=2.20->openai) (1.26.14)\n",
      "Requirement already satisfied: attrs>=17.3.0 in /home/mnasir/anaconda3/envs/lm-pcg2/lib/python3.9/site-packages (from aiohttp->openai) (22.2.0)\n",
      "Requirement already satisfied: frozenlist>=1.1.1 in /home/mnasir/anaconda3/envs/lm-pcg2/lib/python3.9/site-packages (from aiohttp->openai) (1.3.3)\n",
      "Requirement already satisfied: multidict<7.0,>=4.5 in /home/mnasir/anaconda3/envs/lm-pcg2/lib/python3.9/site-packages (from aiohttp->openai) (6.0.4)\n",
      "Requirement already satisfied: aiosignal>=1.1.2 in /home/mnasir/anaconda3/envs/lm-pcg2/lib/python3.9/site-packages (from aiohttp->openai) (1.3.1)\n",
      "Requirement already satisfied: yarl<2.0,>=1.0 in /home/mnasir/anaconda3/envs/lm-pcg2/lib/python3.9/site-packages (from aiohttp->openai) (1.8.2)\n",
      "Requirement already satisfied: async-timeout<5.0,>=4.0.0a3 in /home/mnasir/anaconda3/envs/lm-pcg2/lib/python3.9/site-packages (from aiohttp->openai) (4.0.2)\n"
     ]
    }
   ],
   "source": [
    "!pip install --upgrade openai"
   ]
  },
  {
   "cell_type": "code",
   "execution_count": 4,
   "metadata": {
    "colab": {
     "base_uri": "https://localhost:8080/"
    },
    "id": "L15A4RoYsaZ-",
    "outputId": "7a1fa308-b41f-4ea8-a306-77e86f378438"
   },
   "outputs": [
    {
     "name": "stdout",
     "output_type": "stream",
     "text": [
      "Traceback (most recent call last):\r\n",
      "  File \"/home/mnasir/.local/bin/openai\", line 8, in <module>\r\n",
      "    import openai\r\n",
      "  File \"/home/mnasir/.local/lib/python2.7/site-packages/openai/__init__.py\", line 30, in <module>\r\n",
      "    from openai.api_resources import *  # noqa\r\n",
      "  File \"/home/mnasir/.local/lib/python2.7/site-packages/openai/api_resources/__init__.py\", line 1, in <module>\r\n",
      "    from openai.api_resources.completion import Completion\r\n",
      "  File \"/home/mnasir/.local/lib/python2.7/site-packages/openai/api_resources/completion.py\", line 14\r\n",
      "    def create(cls, *args, timeout=None, **kwargs):\r\n",
      "                                 ^\r\n",
      "SyntaxError: invalid syntax\r\n"
     ]
    }
   ],
   "source": [
    "!openai tools fine_tunes.prepare_data -f 'microban.jsonl'"
   ]
  },
  {
   "cell_type": "code",
   "execution_count": 4,
   "metadata": {
    "id": "WQIjLpLjszaj"
   },
   "outputs": [],
   "source": [
    "import os\n",
    "os.environ['OPENAI_API_KEY'] = \" \"\n",
    "!set OPENAI_API_KEY="
   ]
  },
  {
   "cell_type": "code",
   "execution_count": 5,
   "metadata": {
    "colab": {
     "base_uri": "https://localhost:8080/"
    },
    "id": "VtOicpdQtPz-",
    "outputId": "2744ded0-1a80-408e-f9bc-fc9471f5f5d4"
   },
   "outputs": [
    {
     "name": "stdout",
     "output_type": "stream",
     "text": [
      "Traceback (most recent call last):\r\n",
      "  File \"/home/mnasir/.local/bin/openai\", line 8, in <module>\r\n",
      "    import openai\r\n",
      "  File \"/home/mnasir/.local/lib/python2.7/site-packages/openai/__init__.py\", line 30, in <module>\r\n",
      "    from openai.api_resources import *  # noqa\r\n",
      "  File \"/home/mnasir/.local/lib/python2.7/site-packages/openai/api_resources/__init__.py\", line 1, in <module>\r\n",
      "    from openai.api_resources.completion import Completion\r\n",
      "  File \"/home/mnasir/.local/lib/python2.7/site-packages/openai/api_resources/completion.py\", line 14\r\n",
      "    def create(cls, *args, timeout=None, **kwargs):\r\n",
      "                                 ^\r\n",
      "SyntaxError: invalid syntax\r\n"
     ]
    }
   ],
   "source": [
    "!openai api fine_tunes.create -t \"miniban.jsonl\" -m davinci --n_epochs 3 --suffix \"miniban sample 3 epochs\""
   ]
  },
  {
   "cell_type": "code",
   "execution_count": 7,
   "metadata": {
    "colab": {
     "base_uri": "https://localhost:8080/"
    },
    "id": "mE89kONXxSDk",
    "outputId": "d3e0ba4a-c951-46c2-b0a4-d8d17007a306"
   },
   "outputs": [
    {
     "name": "stdout",
     "output_type": "stream",
     "text": [
      "[2023-02-03 09:57:56] Created fine-tune: ft-gtTI6n6qeXpNaCeu1OaBIKUP\n",
      "[2023-02-03 09:58:31] Fine-tune costs $0.00\n",
      "[2023-02-03 09:58:31] Fine-tune enqueued. Queue number: 14\n",
      "[2023-02-03 10:00:07] Fine-tune is in the queue. Queue number: 13\n",
      "[2023-02-03 10:01:52] Fine-tune is in the queue. Queue number: 12\n",
      "[2023-02-03 10:12:31] Fine-tune is in the queue. Queue number: 11\n",
      "[2023-02-03 10:15:27] Fine-tune is in the queue. Queue number: 10\n",
      "[2023-02-03 10:17:12] Fine-tune is in the queue. Queue number: 9\n",
      "[2023-02-03 10:17:29] Fine-tune is in the queue. Queue number: 8\n",
      "[2023-02-03 10:17:56] Fine-tune is in the queue. Queue number: 7\n",
      "[2023-02-03 10:18:13] Fine-tune is in the queue. Queue number: 6\n",
      "[2023-02-03 10:19:27] Fine-tune is in the queue. Queue number: 5\n",
      "[2023-02-03 10:21:21] Fine-tune is in the queue. Queue number: 4\n",
      "[2023-02-03 10:21:55] Fine-tune is in the queue. Queue number: 3\n",
      "[2023-02-03 10:22:45] Fine-tune is in the queue. Queue number: 2\n",
      "[2023-02-03 10:23:20] Fine-tune is in the queue. Queue number: 1\n",
      "[2023-02-03 10:23:59] Fine-tune is in the queue. Queue number: 0\n",
      "[2023-02-03 10:26:24] Fine-tune started\n",
      "[2023-02-03 10:26:36] Completed epoch 1/1\n",
      "[2023-02-03 10:26:55] Server error. Returning to queue for retry\n",
      "[2023-02-03 10:28:51] Fine-tune is in the queue. Queue number: 8\n",
      "\n",
      "Stream interrupted (client disconnected).\n",
      "To resume the stream, run:\n",
      "\n",
      "  openai api fine_tunes.follow -i ft-gtTI6n6qeXpNaCeu1OaBIKUP\n",
      "\n"
     ]
    }
   ],
   "source": [
    "!openai api fine_tunes.follow -i ft-gtTI6n6qeXpNaCeu1OaBIKUP"
   ]
  },
  {
   "cell_type": "code",
   "execution_count": 9,
   "metadata": {
    "colab": {
     "base_uri": "https://localhost:8080/"
    },
    "id": "7kPp1FsutgNn",
    "outputId": "e2d141bd-eba3-4e76-f2cf-2856a43c1ebb"
   },
   "outputs": [
    {
     "data": {
      "text/plain": [
       "<OpenAIObject text_completion id=cmpl-6fnjZhb795vXDZ1YIHy6BqCWQ4JuB at 0x7f1fda4ccea0> JSON: {\n",
       "  \"choices\": [\n",
       "    {\n",
       "      \"finish_reason\": \"length\",\n",
       "      \"index\": 0,\n",
       "      \"logprobs\": null,\n",
       "      \"text\": \" ##########\\n#AAAAAAAAAAAAAA#\\n#AAAAAAAAAAAAAA#\\n#AAAAAAAAAAAAAA#\\n#BAAAAAAAAAAAAB#\\n#BBAAAAAAAAAABB#\\n#BBBBAAAAAABBBB#\\n#BBBBBBBBBBBBBB#\\nJCBBBBBBBBBBBB#\\nJCCBBBBBBBBBBBB#\\nJCCCCCBBBBBBBBBJ\\nJCCCCCCBBBBBBBBJ\\n#CCCCCCCCBBBBBBJ\\n#CCCCCCCCBBBBBBJ\\n#CCCCCCCCBB\"\n",
       "    }\n",
       "  ],\n",
       "  \"created\": 1675420645,\n",
       "  \"id\": \"cmpl-6fnjZhb795vXDZ1YIHy6BqCWQ4JuB\",\n",
       "  \"model\": \"ada:ft-personal:level-gen-1-2023-01-31-07-15-28\",\n",
       "  \"object\": \"text_completion\",\n",
       "  \"usage\": {\n",
       "    \"completion_tokens\": 120,\n",
       "    \"prompt_tokens\": 67,\n",
       "    \"total_tokens\": 187\n",
       "  }\n",
       "}"
      ]
     },
     "execution_count": 9,
     "metadata": {},
     "output_type": "execute_result"
    }
   ],
   "source": [
    "import openai\n",
    "openai.Completion.create(\n",
    "  model=\"ada:ft-personal:level-gen-1-2023-01-31-07-15-28\",\n",
    "  prompt=\"Map: ->\"\n",
    "  max_tokens=150,\n",
    "  temperature=1,\n",
    "  stop = [\". END\"]\n",
    ")"
   ]
  },
  {
   "cell_type": "code",
   "execution_count": null,
   "metadata": {
    "id": "RH2JZR9D2fge"
   },
   "outputs": [],
   "source": []
  }
 ],
 "metadata": {
  "colab": {
   "provenance": []
  },
  "kernelspec": {
   "display_name": "Python 3 (ipykernel)",
   "language": "python",
   "name": "python3"
  },
  "language_info": {
   "codemirror_mode": {
    "name": "ipython",
    "version": 3
   },
   "file_extension": ".py",
   "mimetype": "text/x-python",
   "name": "python",
   "nbconvert_exporter": "python",
   "pygments_lexer": "ipython3",
   "version": "3.9.16"
  }
 },
 "nbformat": 4,
 "nbformat_minor": 1
}
